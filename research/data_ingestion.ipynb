{
 "cells": [
  {
   "cell_type": "code",
   "execution_count": 3,
   "metadata": {},
   "outputs": [
    {
     "data": {
      "text/plain": [
       "'/Users/suyash/Desktop/Intent-classification-/research'"
      ]
     },
     "execution_count": 3,
     "metadata": {},
     "output_type": "execute_result"
    }
   ],
   "source": [
    "%pwd"
   ]
  },
  {
   "cell_type": "code",
   "execution_count": 4,
   "metadata": {},
   "outputs": [],
   "source": [
    "import os"
   ]
  },
  {
   "cell_type": "code",
   "execution_count": 5,
   "metadata": {},
   "outputs": [],
   "source": [
    "os.chdir('../')"
   ]
  },
  {
   "cell_type": "code",
   "execution_count": 6,
   "metadata": {},
   "outputs": [
    {
     "name": "stdout",
     "output_type": "stream",
     "text": [
      "[2025-01-19 09:02:31,332: INFO: 2954924526: Created directories: ['artifacts']]\n",
      "Config read from YAML: {'root_dir': 'artifacts/dataingestion', 'data_path': 'data/Bitext_Sample_Customer_Service_Training_Dataset/Training/Bitext_Sample_Customer_Service_Training_Dataset.csv', 'train_dir': 'artifacts/data_ingestion/train', 'test_dir': 'artifacts/data_ingestion/test'}\n",
      "[2025-01-19 09:02:31,333: INFO: 2954924526: Created directories: ['artifacts/dataingestion', 'artifacts/data_ingestion/train', 'artifacts/data_ingestion/test']]\n"
     ]
    }
   ],
   "source": [
    "import os \n",
    "import yaml\n",
    "from pathlib import Path\n",
    "from box import ConfigBox\n",
    "from box.exceptions import BoxValueError\n",
    "from ensure import ensure_annotations\n",
    "from src.ic.logging import logging\n",
    "from src.ic.constants import *\n",
    "from src.ic.utils.common import read_yaml,create_directories\n",
    "# Define DataIngestionConfig class\n",
    "class DataIngestionConfig:\n",
    "    def __init__(self, root_dir: str, train_dir: str, test_dir: str,data_path:str):\n",
    "        self.root_dir = root_dir\n",
    "        self.train_dir = train_dir\n",
    "        self.test_dir = test_dir\n",
    "        self.data_path= data_path\n",
    "\n",
    "# Read YAML function with error handling\n",
    "@ensure_annotations\n",
    "def read_yaml(path_to_yaml: Path) -> ConfigBox:\n",
    "    try:\n",
    "        with open(path_to_yaml) as yaml_file:\n",
    "            contents = yaml.safe_load(yaml_file)\n",
    "            return ConfigBox(contents)  # Ensures it's a dictionary-like object\n",
    "    except Exception as e:\n",
    "        raise ValueError(f\"Error reading YAML file: {e}\")\n",
    "\n",
    "# Function to create directories\n",
    "@ensure_annotations\n",
    "def create_directories(path_to_directories: list, verbose=True):\n",
    "    for path in path_to_directories:\n",
    "        os.makedirs(path, exist_ok=True)\n",
    "    if verbose:\n",
    "        logging.info(f\"Created directories: {path_to_directories}\")\n",
    "\n",
    "# ConfigurationManager to load configurations and directories\n",
    "class ConfigurationManager:\n",
    "    def __init__(self,\n",
    "                 config_path=CONFIG_FILE_PATH,  # Update to the correct path if necessary\n",
    "                 params_filepath=PARAMS_FILE_PATH):  # Update to the correct path if necessary\n",
    "        # Convert paths to Path objects\n",
    "        self.config = read_yaml(Path(config_path))  # Read the config YAML\n",
    "        self.params = read_yaml(Path(params_filepath))  # Read the params YAML\n",
    "        \n",
    "        # Create the root directory defined in config\n",
    "        create_directories([self.config.artifacts_root])\n",
    "\n",
    "    def get_data_ingestion_config(self) -> DataIngestionConfig:\n",
    "        \"\"\"\n",
    "        This method returns the DataIngestionConfig object,\n",
    "        which holds the paths for root, train, and test directories.\n",
    "        \"\"\"\n",
    "        config = self.config.data_ingestion\n",
    "        \n",
    "\n",
    "        print(f\"Config read from YAML: {config}\")\n",
    "        \n",
    "        create_directories([config.root_dir, config.train_dir, config.test_dir])\n",
    "        \n",
    "        data_ingestion_config = DataIngestionConfig(\n",
    "            root_dir=config.root_dir,\n",
    "            train_dir=config.train_dir,\n",
    "            test_dir=config.test_dir,\n",
    "            data_path=config.data_path\n",
    "            \n",
    "        )\n",
    "\n",
    "        return data_ingestion_config\n",
    "\n",
    "# Example Usage:\n",
    "config_manager = ConfigurationManager()\n",
    "data_ingestion_config = config_manager.get_data_ingestion_config()\n"
   ]
  },
  {
   "cell_type": "code",
   "execution_count": 7,
   "metadata": {},
   "outputs": [
    {
     "name": "stdout",
     "output_type": "stream",
     "text": [
      "[2025-01-19 09:02:32,312: INFO: config: PyTorch version 2.5.1 available.]\n",
      "[2025-01-19 09:02:32,313: INFO: config: TensorFlow version 2.18.0 available.]\n"
     ]
    },
    {
     "name": "stderr",
     "output_type": "stream",
     "text": [
      "/Users/suyash/Desktop/Intent-classification-/venv/lib/python3.12/site-packages/tqdm/auto.py:21: TqdmWarning: IProgress not found. Please update jupyter and ipywidgets. See https://ipywidgets.readthedocs.io/en/stable/user_install.html\n",
      "  from .autonotebook import tqdm as notebook_tqdm\n"
     ]
    }
   ],
   "source": [
    "import os\n",
    "import pandas as pd\n",
    "from datasets import load_dataset\n",
    "from sklearn.model_selection import train_test_split\n",
    "from pathlib import Path\n",
    "\n",
    "class DataIngestion:\n",
    "    def __init__(self, config):\n",
    "        \"\"\"\n",
    "        Initializes the DataIngestion class with a configuration object.\n",
    "        \"\"\"\n",
    "        self.config = config\n",
    "\n",
    "    def dataset_read(self):\n",
    "        \"\"\"\n",
    "        Reads dataset from the given CSV path and saves it as train/test CSV files.\n",
    "        \"\"\"\n",
    "        try:\n",
    "            # Load the dataset from the CSV file path\n",
    "            datasets = load_dataset(\"csv\", data_files=self.config.data_path)\n",
    "\n",
    "            # Ensure the directory for saving train and test datasets exists\n",
    "            os.makedirs(self.config.train_dir, exist_ok=True)\n",
    "            os.makedirs(self.config.test_dir, exist_ok=True)\n",
    "\n",
    "            # Check if 'train' and 'test' splits are available\n",
    "            if 'train' not in datasets or 'test' not in datasets:\n",
    "                # If not, manually split the dataset\n",
    "                print(\"Splitting dataset into train and test splits...\")\n",
    "\n",
    "                full_df = datasets['train'].to_pandas()  # assuming the dataset has a 'train' split\n",
    "                train_df, test_df = train_test_split(full_df, test_size=0.2, random_state=42)\n",
    "\n",
    "                # Save the train and test splits as CSV files\n",
    "                train_output_path = os.path.join(self.config.train_dir, 'train.csv')\n",
    "                test_output_path = os.path.join(self.config.test_dir, 'test.csv')\n",
    "\n",
    "                train_df.to_csv(train_output_path, index=False)\n",
    "                test_df.to_csv(test_output_path, index=False)\n",
    "\n",
    "                print(f\"Train dataset saved to {train_output_path}\")\n",
    "                print(f\"Test dataset saved to {test_output_path}\")\n",
    "            else:\n",
    "                # If splits exist, directly save them\n",
    "                train_df = datasets['train'].to_pandas()  \n",
    "                test_df = datasets['test'].to_pandas()  \n",
    "\n",
    "                train_output_path = os.path.join(self.config.train_dir, 'train.csv')\n",
    "                test_output_path = os.path.join(self.config.test_dir, 'test.csv')\n",
    "\n",
    "                train_df.to_csv(train_output_path, index=False)\n",
    "                test_df.to_csv(test_output_path, index=False)\n",
    "\n",
    "                print(f\"Train dataset saved to {train_output_path}\")\n",
    "                print(f\"Test dataset saved to {test_output_path}\")\n",
    "        except Exception as e:\n",
    "            print(f\"Error reading or saving dataset: {str(e)}\")\n"
   ]
  },
  {
   "cell_type": "code",
   "execution_count": 8,
   "metadata": {},
   "outputs": [
    {
     "name": "stdout",
     "output_type": "stream",
     "text": [
      "[2025-01-19 09:02:33,583: INFO: 2954924526: Created directories: ['artifacts']]\n",
      "Config read from YAML: {'root_dir': 'artifacts/dataingestion', 'data_path': 'data/Bitext_Sample_Customer_Service_Training_Dataset/Training/Bitext_Sample_Customer_Service_Training_Dataset.csv', 'train_dir': 'artifacts/data_ingestion/train', 'test_dir': 'artifacts/data_ingestion/test'}\n",
      "[2025-01-19 09:02:33,584: INFO: 2954924526: Created directories: ['artifacts/dataingestion', 'artifacts/data_ingestion/train', 'artifacts/data_ingestion/test']]\n",
      "Splitting dataset into train and test splits...\n",
      "Train dataset saved to artifacts/data_ingestion/train/train.csv\n",
      "Test dataset saved to artifacts/data_ingestion/test/test.csv\n"
     ]
    }
   ],
   "source": [
    "# Initialize the ConfigurationManager to get the config\n",
    "config_manager = ConfigurationManager()\n",
    "\n",
    "# Get the data ingestion config\n",
    "data_ingestion_config = config_manager.get_data_ingestion_config()\n",
    "\n",
    "# Create an instance of DataIngestion with the config\n",
    "data_ingestion = DataIngestion(config=data_ingestion_config)\n",
    "\n",
    "# Call the dataset_read method on the instance\n",
    "data_ingestion.dataset_read()\n"
   ]
  },
  {
   "cell_type": "code",
   "execution_count": null,
   "metadata": {},
   "outputs": [],
   "source": []
  },
  {
   "cell_type": "code",
   "execution_count": null,
   "metadata": {},
   "outputs": [],
   "source": []
  }
 ],
 "metadata": {
  "kernelspec": {
   "display_name": "Python 3",
   "language": "python",
   "name": "python3"
  },
  "language_info": {
   "codemirror_mode": {
    "name": "ipython",
    "version": 3
   },
   "file_extension": ".py",
   "mimetype": "text/x-python",
   "name": "python",
   "nbconvert_exporter": "python",
   "pygments_lexer": "ipython3",
   "version": "3.12.0"
  }
 },
 "nbformat": 4,
 "nbformat_minor": 2
}
